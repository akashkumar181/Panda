{
  "nbformat": 4,
  "nbformat_minor": 0,
  "metadata": {
    "colab": {
      "provenance": [],
      "authorship_tag": "ABX9TyMN3PHWj89MZWj7BOL0pwmx",
      "include_colab_link": true
    },
    "kernelspec": {
      "name": "python3",
      "display_name": "Python 3"
    },
    "language_info": {
      "name": "python"
    }
  },
  "cells": [
    {
      "cell_type": "markdown",
      "metadata": {
        "id": "view-in-github",
        "colab_type": "text"
      },
      "source": [
        "<a href=\"https://colab.research.google.com/github/akashkumar181/Panda/blob/main/DataframePanda6.ipynb\" target=\"_parent\"><img src=\"https://colab.research.google.com/assets/colab-badge.svg\" alt=\"Open In Colab\"/></a>"
      ]
    },
    {
      "cell_type": "markdown",
      "source": [
        "#Data Frame"
      ],
      "metadata": {
        "id": "eE5RoSesB8sh"
      }
    },
    {
      "cell_type": "code",
      "execution_count": 1,
      "metadata": {
        "id": "mO0lJxwJBwmF"
      },
      "outputs": [],
      "source": [
        "import pandas as pd"
      ]
    },
    {
      "cell_type": "code",
      "source": [
        "listt=[1,2,3,4]\n",
        "var=pd.DataFrame(listt)\n",
        "print(var)"
      ],
      "metadata": {
        "colab": {
          "base_uri": "https://localhost:8080/"
        },
        "id": "i9-yfnJTCCYP",
        "outputId": "5a726629-5c18-4235-a05a-b3d84c8e6777"
      },
      "execution_count": 3,
      "outputs": [
        {
          "output_type": "stream",
          "name": "stdout",
          "text": [
            "   0\n",
            "0  1\n",
            "1  2\n",
            "2  3\n",
            "3  4\n"
          ]
        }
      ]
    },
    {
      "cell_type": "code",
      "source": [
        "dict={\"Subject\":[\"Python\",\"c\",\"cpp\",\"java\"],\n",
        "      \"Popularity\":[100,90,80,70]}\n",
        "var=pd.DataFrame(dict)\n",
        "print(var)"
      ],
      "metadata": {
        "colab": {
          "base_uri": "https://localhost:8080/"
        },
        "id": "Q948_OmMCjHX",
        "outputId": "026075bf-d7e2-4606-f525-2d16b7fc5fbd"
      },
      "execution_count": 5,
      "outputs": [
        {
          "output_type": "stream",
          "name": "stdout",
          "text": [
            "  Subject  Popularity\n",
            "0  Python         100\n",
            "1       c          90\n",
            "2     cpp          80\n",
            "3    java          70\n"
          ]
        }
      ]
    },
    {
      "cell_type": "code",
      "source": [
        "dict={\"Subject\":[\"Python\",\"c\",\"cpp\",\"java\"],\n",
        "      \"Popularity\":[100,90,80,70]}\n",
        "var1=pd.DataFrame(dict,columns=[\"Subject\",\"Popularity\"],index=[\"a\",\"b\",\"c\",\"d\"])#it provide column and row\n",
        "print(var1)\n",
        "var=pd.DataFrame(dict,columns=[\"Popularity\"])#it only provide column\n",
        "print(var)\n",
        "#print(var1[\"a\"][2])#it is for get data\n",
        "print(var1)"
      ],
      "metadata": {
        "colab": {
          "base_uri": "https://localhost:8080/"
        },
        "id": "rgWGKXT9DMP-",
        "outputId": "3c075938-86cc-4958-9dd5-d78f40dd7eea"
      },
      "execution_count": 21,
      "outputs": [
        {
          "output_type": "stream",
          "name": "stdout",
          "text": [
            "  Subject  Popularity\n",
            "a  Python         100\n",
            "b       c          90\n",
            "c     cpp          80\n",
            "d    java          70\n",
            "   Popularity\n",
            "0         100\n",
            "1          90\n",
            "2          80\n",
            "3          70\n",
            "  Subject  Popularity\n",
            "a  Python         100\n",
            "b       c          90\n",
            "c     cpp          80\n",
            "d    java          70\n"
          ]
        }
      ]
    }
  ]
}