{
  "nbformat": 4,
  "nbformat_minor": 0,
  "metadata": {
    "colab": {
      "provenance": [],
      "authorship_tag": "ABX9TyMKxXBh7i9Gk6HqUK+nBR/k",
      "include_colab_link": true
    },
    "kernelspec": {
      "name": "python3",
      "display_name": "Python 3"
    },
    "language_info": {
      "name": "python"
    }
  },
  "cells": [
    {
      "cell_type": "markdown",
      "metadata": {
        "id": "view-in-github",
        "colab_type": "text"
      },
      "source": [
        "<a href=\"https://colab.research.google.com/github/akashkumar181/Panda/blob/main/PandaSeries6.ipynb\" target=\"_parent\"><img src=\"https://colab.research.google.com/assets/colab-badge.svg\" alt=\"Open In Colab\"/></a>"
      ]
    },
    {
      "cell_type": "code",
      "execution_count": 2,
      "metadata": {
        "id": "mZGrAud055JX"
      },
      "outputs": [],
      "source": [
        "import pandas as pd\n",
        "import numpy as np\n",
        "import matplotlib.pyplot as plt\n"
      ]
    },
    {
      "cell_type": "markdown",
      "source": [
        "1.Series=1d labeled arrays pd.series\n",
        "2.Dataframe=two dimensional data structure with column like table\n",
        "3.panel=3d container of data\n",
        "\n",
        ">\n",
        "\n"
      ],
      "metadata": {
        "id": "ZwbXMT5D8Dqq"
      }
    },
    {
      "cell_type": "markdown",
      "source": [
        "#series"
      ],
      "metadata": {
        "id": "jYfC3YJi9ehj"
      }
    },
    {
      "cell_type": "code",
      "source": [
        "x=[2,3,4,5,6]\n",
        "var=pd.Series(x,index=['a','b','c','d','e'])#we change index no 1 2 3 to a b c\n",
        "print(var)\n",
        "print(type(var))\n"
      ],
      "metadata": {
        "colab": {
          "base_uri": "https://localhost:8080/"
        },
        "id": "cxpEEc8c7PTU",
        "outputId": "74eb6d9f-2bf0-433f-c9e1-c5d27d307945"
      },
      "execution_count": 8,
      "outputs": [
        {
          "output_type": "stream",
          "name": "stdout",
          "text": [
            "a    2\n",
            "b    3\n",
            "c    4\n",
            "d    5\n",
            "e    6\n",
            "dtype: int64\n",
            "<class 'pandas.core.series.Series'>\n"
          ]
        }
      ]
    },
    {
      "cell_type": "code",
      "source": [
        "dic={\n",
        "    \"Name\":['pandas','c','c++','java'],\n",
        "    \"pop\":[10,20,30,40]\n",
        "\n",
        "}\n",
        "var=pd.Series(dic)\n",
        "print(var)"
      ],
      "metadata": {
        "colab": {
          "base_uri": "https://localhost:8080/"
        },
        "id": "oDTH9Bbg-4dW",
        "outputId": "f000ad2d-1aa6-42b5-a57e-6b709c3b13f5"
      },
      "execution_count": 11,
      "outputs": [
        {
          "output_type": "stream",
          "name": "stdout",
          "text": [
            "a    NaN\n",
            "b    NaN\n",
            "c    NaN\n",
            "d    NaN\n",
            "dtype: object\n"
          ]
        }
      ]
    },
    {
      "cell_type": "code",
      "source": [
        "s=pd.Series(12,index=[1,2,3,4,5,6,7,8,9,10])\n",
        "print(s)"
      ],
      "metadata": {
        "colab": {
          "base_uri": "https://localhost:8080/"
        },
        "id": "10R1-02M_1sJ",
        "outputId": "3245b3e2-8c8d-4fd8-fd2b-19f70bfdefbc"
      },
      "execution_count": 12,
      "outputs": [
        {
          "output_type": "stream",
          "name": "stdout",
          "text": [
            "1     12\n",
            "2     12\n",
            "3     12\n",
            "4     12\n",
            "5     12\n",
            "6     12\n",
            "7     12\n",
            "8     12\n",
            "9     12\n",
            "10    12\n",
            "dtype: int64\n"
          ]
        }
      ]
    },
    {
      "cell_type": "code",
      "source": [
        "s1=pd.Series(12,index=[1,2,3,4,5,6,7,8,9,10])\n",
        "s2=pd.Series(12,index=[1,2,3,4,5,6,7])\n",
        "print(s1+s2)"
      ],
      "metadata": {
        "colab": {
          "base_uri": "https://localhost:8080/"
        },
        "id": "DMNpOiP0AfQv",
        "outputId": "06c4fe1c-92df-474b-897c-4f12c8e27ac0"
      },
      "execution_count": 13,
      "outputs": [
        {
          "output_type": "stream",
          "name": "stdout",
          "text": [
            "1     24.0\n",
            "2     24.0\n",
            "3     24.0\n",
            "4     24.0\n",
            "5     24.0\n",
            "6     24.0\n",
            "7     24.0\n",
            "8      NaN\n",
            "9      NaN\n",
            "10     NaN\n",
            "dtype: float64\n"
          ]
        }
      ]
    },
    {
      "cell_type": "markdown",
      "source": [
        "#Data Frame"
      ],
      "metadata": {
        "id": "XYw_tc9sA1Zb"
      }
    },
    {
      "cell_type": "code",
      "source": [],
      "metadata": {
        "id": "XTiiew7PAru4"
      },
      "execution_count": null,
      "outputs": []
    }
  ]
}